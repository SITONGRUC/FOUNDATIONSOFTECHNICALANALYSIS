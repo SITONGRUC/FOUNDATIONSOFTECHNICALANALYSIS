{
 "cells": [
  {
   "cell_type": "markdown",
   "metadata": {},
   "source": [
    "descriptive statistics"
   ]
  },
  {
   "cell_type": "code",
   "execution_count": 5,
   "metadata": {},
   "outputs": [],
   "source": [
    "import pandas as pd\n",
    "import numpy as np\n",
    "de = pd.read_csv(\"/Users/riomoukiri/Desktop/CHUPROJECT/defi_data_1.csv\")\n",
    "lr = de[['linklogreturn','aavelogreturn',\"makerlogreturn\",'kyberlogreturn','zerologreturn']]\n",
    "des = pd.DataFrame(lr.describe())\n",
    "des = des.T\n",
    "skew = pd.DataFrame(lr.skew())\n",
    "skew.rename(columns={0 : 'skew'}, inplace=True)\n",
    "des = des.join(skew)\n",
    "var = pd.DataFrame(lr.var())\n",
    "var.rename(columns={0 : 'var'}, inplace=True)\n",
    "des = des.join(var)\n",
    "median = pd.DataFrame(lr.median())\n",
    "median.rename(columns={0 : 'meidan'}, inplace=True)\n",
    "des = des.join(median)\n",
    "kurtosis = pd.DataFrame(lr.kurtosis())\n",
    "kurtosis.rename(columns={0 : 'kurtosis'}, inplace=True)\n",
    "des = des.join(kurtosis)\n",
    "cov = lambda x: np.std(x, ddof=1) / np.mean(x) \n",
    "cv = pd.DataFrame(cov(lr))\n",
    "cv.rename(columns={0 : 'coefficient of variation,'}, inplace=True)\n",
    "des = des.join(cv)\n",
    "range_q = pd.DataFrame(des[\"max\"]-des['min'])\n",
    "range_q.rename(columns={0 : 'range'}, inplace=True)\n",
    "des = des.join(range_q)\n",
    "inter_quartile = pd.DataFrame(des[\"75%\"]-des['25%'])\n",
    "inter_quartile.rename(columns={0 : 'inter_quartile'}, inplace=True)\n",
    "des = des.join(inter_quartile)\n",
    "des = des.T\n",
    "des.to_excel(\"/Users/riomoukiri/Desktop/CHUPROJECT/des.xlsx\",index = True)"
   ]
  }
 ],
 "metadata": {
  "kernelspec": {
   "display_name": "Python 3 (ipykernel)",
   "language": "python",
   "name": "python3"
  },
  "language_info": {
   "codemirror_mode": {
    "name": "ipython",
    "version": 3
   },
   "file_extension": ".py",
   "mimetype": "text/x-python",
   "name": "python",
   "nbconvert_exporter": "python",
   "pygments_lexer": "ipython3",
   "version": "3.9.7"
  }
 },
 "nbformat": 4,
 "nbformat_minor": 4
}
