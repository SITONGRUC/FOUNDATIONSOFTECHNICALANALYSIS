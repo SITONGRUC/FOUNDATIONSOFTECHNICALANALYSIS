{
 "cells": [
  {
   "cell_type": "code",
   "execution_count": 11,
   "metadata": {},
   "outputs": [],
   "source": [
    "import pandas as pd\n",
    "import numpy as np\n",
    "import matplotlib.pyplot as plt\n",
    "from scipy.signal import argrelextrema\n",
    "from sklearn.linear_model import LinearRegression\n",
    "lr = LinearRegression()"
   ]
  },
  {
   "cell_type": "code",
   "execution_count": 12,
   "metadata": {},
   "outputs": [],
   "source": [
    "def ju(x,less,more):\n",
    "    if (x >= less) and (x<= more):\n",
    "        return True "
   ]
  },
  {
   "cell_type": "markdown",
   "metadata": {},
   "source": [
    "hs"
   ]
  },
  {
   "cell_type": "code",
   "execution_count": 13,
   "metadata": {},
   "outputs": [],
   "source": [
    "def hs(para):\n",
    "    x = 0\n",
    "    keep = []\n",
    "    def ju(x,less,more):\n",
    "        if (x >= less) and (x<= more):\n",
    "            return True \n",
    "    total = []\n",
    "    for j in range(1005):  \n",
    "        a = j\n",
    "        b = a+29\n",
    "        c = str(a)+'_'+str(b)\n",
    "        ret = para+'ret'\n",
    "        data = pd.read_csv('/Users/riomoukiri/Desktop/CHUPROJECT/'+para+'_ex/'+c+'.csv')\n",
    "        data['ex']=data['Minima']+data['Maxima']\n",
    "        Max = []\n",
    "        Min = []\n",
    "        for i in data.loc[data['Maxima']==1, 'index']:\n",
    "            Max.append(i)\n",
    "        for i in data.loc[data['Minima']==1, 'index']:\n",
    "            Min.append(i)\n",
    "        if sum(data['ex'])>=5:\n",
    "            list_1 = data.loc[data['ex']==1, 'index'].to_list()[0:(len(data.loc[data['ex']==1, 'index'])-4)]\n",
    "            for i in list_1:\n",
    "                if i in Max:\n",
    "                    if (data[ret][i+2]>data[ret][i])and(data[ret][i+2]>data[ret][i+4]):\n",
    "                        a = (data[ret][i]+data[ret][i+4])/2\n",
    "                        b = (data[ret][i+1]+data[ret][i+3])/2\n",
    "                        if ju(data[ret][i],0.985*a,1.015*a)== True and \\\n",
    "                        ju(data[ret][i+4],0.985*a,1.015*a)==True and \\\n",
    "                        ju(data[ret][i+1],0.985*b,1.015*b)==True and \\\n",
    "                        ju(data[ret][i+3],0.985*b,1.015*b)==True:\n",
    "                            ser = [j]\n",
    "                            for r in range(5):\n",
    "                                ser.append(i+r)\n",
    "                            total.append(ser)             \n",
    "    return total "
   ]
  },
  {
   "cell_type": "markdown",
   "metadata": {},
   "source": [
    "ihs"
   ]
  },
  {
   "cell_type": "code",
   "execution_count": 14,
   "metadata": {},
   "outputs": [],
   "source": [
    "def ihs(para):\n",
    "    x = 0\n",
    "    keep = []\n",
    "    def ju(x,less,more):\n",
    "        if (x >= less) and (x<= more):\n",
    "            return True \n",
    "    total = []\n",
    "    for j in range(1005):  \n",
    "        a = j \n",
    "        b = a+29\n",
    "        c = str(a)+'_'+str(b)\n",
    "        ret = para+'ret'\n",
    "        data = pd.read_csv('/Users/riomoukiri/Desktop/CHUPROJECT/'+para+'_ex/'+c+'.csv')\n",
    "        data['ex']=data['Minima']+data['Maxima']\n",
    "        Max = []\n",
    "        Min = []\n",
    "        for i in data.loc[data['Maxima']==1, 'index']:\n",
    "            Max.append(i)\n",
    "        for i in data.loc[data['Minima']==1, 'index']:\n",
    "            Min.append(i)\n",
    "        if sum(data['ex'])>=5:\n",
    "            list_1 = data.loc[data['ex']==1, 'index'].to_list()[0:(len(data.loc[data['ex']==1, 'index'])-4)]\n",
    "            for i in list_1:\n",
    "                if i in Min:\n",
    "                    if (data[ret][i+2]<data[ret][i])and(data[ret][i+2]<data[ret][i+4]):\n",
    "                        a = (data[ret][i]+data[ret][i+4])/2\n",
    "                        b = (data[ret][i+1]+data[ret][i+3])/2\n",
    "                        if ju(data[ret][i],0.985*a,1.015*a)== True and \\\n",
    "                        ju(data[ret][i+4],0.985*a,1.015*a)==True and \\\n",
    "                        ju(data[ret][i+1],0.985*b,1.015*b)==True and \\\n",
    "                        ju(data[ret][i+3],0.985*b,1.015*b)==True:\n",
    "                            ser = [j]\n",
    "                            for r in range(5):\n",
    "                                ser.append(i+r)\n",
    "                            total.append(ser)\n",
    "    return total "
   ]
  },
  {
   "cell_type": "markdown",
   "metadata": {},
   "source": [
    "BTOP"
   ]
  },
  {
   "cell_type": "code",
   "execution_count": 15,
   "metadata": {},
   "outputs": [],
   "source": [
    "def btop(para):\n",
    "    x = 0\n",
    "    keep = []\n",
    "    def ju(x,less,more):\n",
    "        if (x >= less) and (x<= more):\n",
    "            return True \n",
    "    total = []\n",
    "    for j in range(1005):  \n",
    "        a = j \n",
    "        b = a+29\n",
    "        c = str(a)+'_'+str(b)\n",
    "        ret = para+'ret'\n",
    "        data = pd.read_csv('/Users/riomoukiri/Desktop/CHUPROJECT/'+para+'_ex/'+c+'.csv')\n",
    "        data['ex']=data['Minima']+data['Maxima']\n",
    "        Max = []\n",
    "        Min = []\n",
    "        for i in data.loc[data['Maxima']==1, 'index']:\n",
    "            Max.append(i)\n",
    "        for i in data.loc[data['Minima']==1, 'index']:\n",
    "            Min.append(i)\n",
    "        if sum(data['ex'])>=5:\n",
    "            list_1 = data.loc[data['ex']==1, 'index'].to_list()[0:(len(data.loc[data['ex']==1, 'index'])-4)]\n",
    "            for i in list_1:\n",
    "                if i in Max:\n",
    "                    if ju(data[ret][i+2],data[ret][i],data[ret][i+4])==True and \\\n",
    "                    data[ret][i+1] > data[ret][i+3]:\n",
    "                        ser = [j]\n",
    "                        for r in range(5):\n",
    "                            ser.append(i+r)\n",
    "                        total.append(ser)\n",
    "                        \n",
    "                        \n",
    "    return total \n",
    "                            \n",
    "                                                                                                                          "
   ]
  },
  {
   "cell_type": "markdown",
   "metadata": {},
   "source": [
    "BBOT"
   ]
  },
  {
   "cell_type": "code",
   "execution_count": 16,
   "metadata": {},
   "outputs": [],
   "source": [
    "def bbot(para):\n",
    "    x = 0\n",
    "    keep = []\n",
    "    def ju(x,less,more):\n",
    "        if (x >= less) and (x<= more):\n",
    "            return True \n",
    "    total = []\n",
    "    for j in range(1005):  \n",
    "        a = j\n",
    "        b = a+29\n",
    "        c = str(a)+'_'+str(b)\n",
    "        ret = para+'ret'\n",
    "        data = pd.read_csv('/Users/riomoukiri/Desktop/CHUPROJECT/'+para+'_ex/'+c+'.csv')\n",
    "        data['ex']=data['Minima']+data['Maxima']\n",
    "        Max = []\n",
    "        Min = []\n",
    "        for i in data.loc[data['Maxima']==1, 'index']:\n",
    "            Max.append(i)\n",
    "        for i in data.loc[data['Minima']==1, 'index']:\n",
    "            Min.append(i)\n",
    "        if sum(data['ex'])>=5:\n",
    "            list_1 = data.loc[data['ex']==1, 'index'].to_list()[0:(len(data.loc[data['ex']==1, 'index'])-4)]\n",
    "            for i in list_1:\n",
    "                if i in Min:\n",
    "                    if ju(data[ret][i+2],data[ret][i+4],data[ret][i])==True and \\\n",
    "                    data[ret][i+1] < data[ret][i+3]:\n",
    "                        ser = [j]\n",
    "                        for r in range(5):\n",
    "                            ser.append(i+r)\n",
    "                        total.append(ser)\n",
    "    return total\n",
    "                            \n",
    "                                                                                                                          "
   ]
  },
  {
   "cell_type": "markdown",
   "metadata": {},
   "source": [
    "TTOP"
   ]
  },
  {
   "cell_type": "code",
   "execution_count": 17,
   "metadata": {},
   "outputs": [],
   "source": [
    "def ttop(para):\n",
    "    x = 0\n",
    "    keep = []\n",
    "    def ju(x,less,more):\n",
    "        if (x >= less) and (x<= more):\n",
    "            return True \n",
    "    total = []\n",
    "    for j in range(1005):  \n",
    "        a = j\n",
    "        b = a+29\n",
    "        c = str(a)+'_'+str(b)\n",
    "        ret = para+'ret'\n",
    "        data = pd.read_csv('/Users/riomoukiri/Desktop/CHUPROJECT/'+para+'_ex/'+c+'.csv')\n",
    "        data['ex']=data['Minima']+data['Maxima']\n",
    "        Max = []\n",
    "        Min = []\n",
    "        for i in data.loc[data['Maxima']==1, 'index']:\n",
    "            Max.append(i)\n",
    "        for i in data.loc[data['Minima']==1, 'index']:\n",
    "            Min.append(i)\n",
    "        if sum(data['ex'])>=5:\n",
    "            list_1 = data.loc[data['ex']==1, 'index'].to_list()[0:(len(data.loc[data['ex']==1, 'index'])-4)]\n",
    "            for i in list_1:\n",
    "                if i in Max:\n",
    "                    if ju(data[ret][i+2],data[ret][i+4],data[ret][i])==True and \\\n",
    "                    data[ret][i+1] < data[ret][i+3]:\n",
    "                        ser = [j]\n",
    "                        for r in range(5):\n",
    "                            ser.append(i+r)\n",
    "                        total.append(ser)\n",
    "    return total \n",
    "                            \n",
    "                                                                                                                          \n",
    "    "
   ]
  },
  {
   "cell_type": "markdown",
   "metadata": {},
   "source": [
    "TBOT"
   ]
  },
  {
   "cell_type": "code",
   "execution_count": 18,
   "metadata": {},
   "outputs": [],
   "source": [
    "def tbot(para):\n",
    "    x = 0\n",
    "    keep = []\n",
    "    def ju(x,less,more):\n",
    "        if (x >= less) and (x<= more):\n",
    "            return True \n",
    "    total = []\n",
    "    for j in range(1005):  \n",
    "        a = j\n",
    "        b = a+29\n",
    "        c = str(a)+'_'+str(b)\n",
    "        ret = para+'ret'\n",
    "        data = pd.read_csv('/Users/riomoukiri/Desktop/CHUPROJECT/'+para+'_ex/'+c+'.csv')\n",
    "        data['ex']=data['Minima']+data['Maxima']\n",
    "        Max = []\n",
    "        Min = []\n",
    "        for i in data.loc[data['Maxima']==1, 'index']:\n",
    "            Max.append(i)\n",
    "        for i in data.loc[data['Minima']==1, 'index']:\n",
    "            Min.append(i)\n",
    "        if sum(data['ex'])>=5:\n",
    "            list_1 = data.loc[data['ex']==1, 'index'].to_list()[0:(len(data.loc[data['ex']==1, 'index'])-4)]\n",
    "            for i in list_1:\n",
    "                if i in Min:\n",
    "                    if ju(data[ret][i+2],data[ret][i],data[ret][i+4])==True and \\\n",
    "                    data[ret][i+1] > data[ret][i+3]:\n",
    "                        ser = [j]\n",
    "                        for r in range(5):\n",
    "                            ser.append(i+r)\n",
    "                        total.append(ser)\n",
    "                        \n",
    "    return total \n",
    "                            \n",
    "                                                                                                                          \n",
    "    "
   ]
  },
  {
   "cell_type": "markdown",
   "metadata": {},
   "source": [
    "RTOP"
   ]
  },
  {
   "cell_type": "code",
   "execution_count": 19,
   "metadata": {},
   "outputs": [],
   "source": [
    "def rtop(para):\n",
    "    x=0\n",
    "    keep = []\n",
    "    total = []\n",
    "    for j in range(1005):\n",
    "        a = j\n",
    "        b = a+29\n",
    "        c = str(a)+'_'+str(b)\n",
    "        ret = para+'ret'\n",
    "        data = pd.read_csv('/Users/riomoukiri/Desktop/CHUPROJECT/'+para+'_ex/'+c+'.csv')\n",
    "        data['ex']=data['Minima']+data['Maxima']\n",
    "        Max = []\n",
    "        Min = []\n",
    "        ext = []\n",
    "        for i in data.loc[data['Maxima']==1, 'index']:\n",
    "            Max.append(data[ret][i])\n",
    "        for i in data.loc[data['Minima']==1, 'index']:\n",
    "            Min.append(data[ret][i])\n",
    "        for i in data.loc[data['ex']==1,'index']:\n",
    "            ext.append(data[ret][i])\n",
    "        if sum(data['ex'])>=5:\n",
    "            list_1 = data.loc[data['ex']==1, ret].to_list()[0:(len(data.loc[data['ex']==1, ret])-4)]\n",
    "            for i in list_1:\n",
    "                if i in Max:\n",
    "                    max_1=[]\n",
    "                    min_1=[]\n",
    "                    for q in [ext.index(i),ext.index(i)+1,ext.index(i)+2,ext.index(i)+3,ext.index(i)+4]:\n",
    "                        if ext[q] in Max:\n",
    "                            max_1.append(ext[q])\n",
    "                        else:\n",
    "                            min_1.append(ext[q])\n",
    "                    if max_1 != [] and min_1!=[] and min(max_1)>max(min_1):\n",
    "                        max_mean = np.mean(max_1)\n",
    "                        max_cou = 0\n",
    "                        for b in range(len(max_1)):\n",
    "                            if ju(max_1[b],0.9925*max_mean,1.0075*max_mean)==True:\n",
    "                                max_cou = max_cou+1\n",
    "                        min_mean = np.mean(min_1)\n",
    "                        min_cou = 0\n",
    "                        for d in range(len(min_1)):\n",
    "                            if ju(min_1[d],0.9925*min_mean,1.0075*min_mean)==True:\n",
    "                                min_cou = min_cou+1\n",
    "                        if min_cou+max_cou==5 and max_1!=[]and min_1!=[]:\n",
    "                            ser = [j]\n",
    "                            for q in [ext.index(i),ext.index(i)+1,ext.index(i)+2,ext.index(i)+3,ext.index(i)+4]:\n",
    "                                a = list(data[ret].copy())\n",
    "                                ser.append(a.index(ext[q]))\n",
    "                            total.append(ser)\n",
    "    return total \n",
    "                    \n",
    "                \n",
    "                \n",
    "    \n",
    "\n",
    "\n"
   ]
  },
  {
   "cell_type": "markdown",
   "metadata": {},
   "source": [
    "RBOT"
   ]
  },
  {
   "cell_type": "code",
   "execution_count": 20,
   "metadata": {},
   "outputs": [],
   "source": [
    "def rbot(para):\n",
    "    x=0\n",
    "    keep = []\n",
    "    total = []\n",
    "    for j in range(1005):\n",
    "        a = j\n",
    "        b = a+29\n",
    "        c = str(a)+'_'+str(b)\n",
    "        ret = para+'ret'\n",
    "        data = pd.read_csv('/Users/riomoukiri/Desktop/CHUPROJECT/'+para+'_ex/'+c+'.csv')\n",
    "        data['ex']=data['Minima']+data['Maxima']\n",
    "        Max = []\n",
    "        Min = []\n",
    "        ext = []\n",
    "        for i in data.loc[data['Maxima']==1, 'index']:\n",
    "            Max.append(data[ret][i])\n",
    "        for i in data.loc[data['Minima']==1, 'index']:\n",
    "            Min.append(data[ret][i])\n",
    "        for i in data.loc[data['ex']==1,'index']:\n",
    "            ext.append(data[ret][i])\n",
    "        if sum(data['ex'])>=5:\n",
    "            list_1 = data.loc[data['ex']==1, ret].to_list()[0:(len(data.loc[data['ex']==1, ret])-4)]\n",
    "            for i in list_1:\n",
    "                if i in Min:\n",
    "                    max_1=[]\n",
    "                    min_1=[]\n",
    "                    for q in [ext.index(i),ext.index(i)+1,ext.index(i)+2,ext.index(i)+3,ext.index(i)+4]:\n",
    "                        if ext[q] in Max:\n",
    "                            max_1.append(ext[q])\n",
    "                        else:\n",
    "                            min_1.append(ext[q])\n",
    "                    if max_1 != [] and min_1!=[] and min(max_1)>max(min_1):\n",
    "                        max_mean = np.mean(max_1)\n",
    "                        max_cou = 0\n",
    "                        for b in range(len(max_1)):\n",
    "                            if ju(max_1[b],0.9925*max_mean,1.0075*max_mean)==True:\n",
    "                                max_cou = max_cou+1\n",
    "                        min_mean = np.mean(min_1)\n",
    "                        min_cou = 0\n",
    "                        for d in range(len(min_1)):\n",
    "                            if ju(min_1[d],0.9925*min_mean,1.0075*min_mean)==True:\n",
    "                                min_cou = min_cou+1\n",
    "                        if min_cou+max_cou==5 and max_1!=[]and min_1!=[]:\n",
    "                            ser = [j]\n",
    "                            for q in [ext.index(i),ext.index(i)+1,ext.index(i)+2,ext.index(i)+3,ext.index(i)+4]:\n",
    "                                a = list(data[ret].copy())\n",
    "                                ser.append(a.index(ext[q]))\n",
    "                            total.append(ser)\n",
    "    return total "
   ]
  },
  {
   "cell_type": "markdown",
   "metadata": {},
   "source": [
    "dtop"
   ]
  },
  {
   "cell_type": "code",
   "execution_count": 21,
   "metadata": {},
   "outputs": [],
   "source": [
    "def dtop(para):\n",
    "    x=0\n",
    "    keep = []\n",
    "    def ju(x,less,more):\n",
    "        if (x >= less) and (x<= more):\n",
    "            return True \n",
    "    total = []\n",
    "    for j in range(1005):\n",
    "        a = j\n",
    "        b = a+29\n",
    "        c = str(a)+'_'+str(b)\n",
    "        ret = para+\"ret\"\n",
    "        data = pd.read_csv('/Users/riomoukiri/Desktop/CHUPROJECT/'+para+'_ex/'+c+'.csv')\n",
    "        data['ex']=data['Minima']+data['Maxima']\n",
    "        Max = []\n",
    "        Min = []\n",
    "        ext = []\n",
    "        for i in data.loc[data['Maxima']==1, 'index']:\n",
    "            Max.append(data[ret][i])\n",
    "        for i in data.loc[data['Minima']==1, 'index']:\n",
    "            Min.append(data[ret][i])\n",
    "        for i in data.loc[data['ex']==1,'index']:\n",
    "            ext.append(data[ret][i])\n",
    "        if sum(data['ex'])>=2:\n",
    "            list_1 = data.loc[data['ex']==1, ret].to_list()[0:(len(data.loc[data['ex']==1, ret])-1)]\n",
    "            for i in list_1:\n",
    "                if i in Max:\n",
    "                    a = max(ext[ext.index(i):])\n",
    "                    mean_1 = (a+i)/2\n",
    "                    if ju(i,0.985*mean_1, 1.015*mean_1) and ju(a,0.985*mean_1, 1.015*mean_1):\n",
    "                        x_1 = data.loc[data[ret]==a,'index'].tolist()\n",
    "                        x_1 = x_1[0]\n",
    "                        y_1 = data.loc[data[ret]==i,'index'].tolist()\n",
    "                        y_1 = y_1[0]\n",
    "                        if x_1-y_1>22:\n",
    "                            ser = [j]\n",
    "                            b = list(data[ret].copy())\n",
    "                            ser.append(b.index(i))\n",
    "                            ser.append(b.index(a))\n",
    "                            total.append(ser)\n",
    "    return total \n",
    "                    \n",
    "                \n",
    "                 \n",
    "                \n",
    "                \n",
    "                \n",
    "                    \n",
    "                    \n",
    "                \n",
    "            \n",
    "            "
   ]
  },
  {
   "cell_type": "markdown",
   "metadata": {},
   "source": [
    "DBOT"
   ]
  },
  {
   "cell_type": "code",
   "execution_count": 22,
   "metadata": {},
   "outputs": [],
   "source": [
    "def dbot(para):\n",
    "    x=0\n",
    "    keep = []\n",
    "    def ju(x,less,more):\n",
    "        if (x >= less) and (x<= more):\n",
    "            return True \n",
    "    total = []\n",
    "    for j in range(1005):\n",
    "        a = j\n",
    "        b = a+29\n",
    "        c = str(a)+'_'+str(b)\n",
    "        ret = para+'ret'\n",
    "        data = pd.read_csv('/Users/riomoukiri/Desktop/CHUPROJECT/'+para+'_ex/'+c+'.csv')\n",
    "        data['ex']=data['Minima']+data['Maxima']\n",
    "        Max = []\n",
    "        Min = []\n",
    "        ext = []\n",
    "        for i in data.loc[data['Maxima']==1, 'index']:\n",
    "            Max.append(data[ret][i])\n",
    "        for i in data.loc[data['Minima']==1, 'index']:\n",
    "            Min.append(data[ret][i])\n",
    "        for i in data.loc[data['ex']==1,'index']:\n",
    "            ext.append(data[ret][i])\n",
    "        if sum(data['ex'])>=2:\n",
    "            list_1 = data.loc[data['ex']==1, ret].to_list()[0:(len(data.loc[data['ex']==1, ret])-1)]\n",
    "            for i in list_1:\n",
    "                if i in Min:\n",
    "                    a = min(ext[ext.index(i):])\n",
    "                    mean_1 = (a+i)/2\n",
    "                    if ju(i,0.985*mean_1, 1.015*mean_1) and ju(a,0.985*mean_1, 1.015*mean_1):\n",
    "                        x_1 = data.loc[data[ret]==a,'index'].tolist()\n",
    "                        x_1 = x_1[0]\n",
    "                        y_1 = data.loc[data[ret]==i,'index'].tolist()\n",
    "                        y_1 = y_1[0]\n",
    "                        if x_1-y_1>22:\n",
    "                            ser = [j]\n",
    "                            b = list(data[ret].copy())\n",
    "                            ser.append(b.index(i))\n",
    "                            ser.append(b.index(a))\n",
    "                            total.append(ser)\n",
    "    return total \n",
    "                \n",
    "                \n",
    "                 \n",
    "                "
   ]
  },
  {
   "cell_type": "code",
   "execution_count": 23,
   "metadata": {},
   "outputs": [],
   "source": [
    "columns=['aave','kyber','link','maker','zero']\n",
    "index = ['HS','IHS','BTOP','BBOT','TTOP','TBOT','RTOP','RBOT','DTOP','DBOT']\n",
    "count = pd.DataFrame(columns =columns, index =index )"
   ]
  },
  {
   "cell_type": "code",
   "execution_count": 70,
   "metadata": {},
   "outputs": [],
   "source": [
    "for i in columns:\n",
    "    count[i][\"HS\"]=hs(i)\n",
    "    count[i]['IHS'] = ihs(i)\n",
    "    count[i][\"BTOP\"] = btop(i)\n",
    "    count[i][\"BBOT\"] = bbot(i)\n",
    "    count[i]['TTOP'] = ttop(i)\n",
    "    count[i]['TBOT'] = tbot(i)\n",
    "    count[i][\"RTOP\"] = rtop(i)\n",
    "    count[i]['RBOT'] = rbot(i)\n",
    "    count[i]['DTOP'] = dtop(i)\n",
    "    count[i]['DBOT'] = dbot(i)"
   ]
  },
  {
   "cell_type": "code",
   "execution_count": 71,
   "metadata": {},
   "outputs": [],
   "source": [
    "for e in count.index:\n",
    "    for t in count.columns:\n",
    "        a = []\n",
    "        for i in count[t][e]:\n",
    "            b = []\n",
    "            for h in range(1,int(len(i))):\n",
    "                c = i[0]+i[h]\n",
    "                b.append(c)\n",
    "            a.append(b)\n",
    "        count[t][e] = a"
   ]
  },
  {
   "cell_type": "code",
   "execution_count": 75,
   "metadata": {},
   "outputs": [],
   "source": [
    "data = pd.read_csv('defi_data_cooy.csv')"
   ]
  },
  {
   "cell_type": "code",
   "execution_count": 179,
   "metadata": {},
   "outputs": [],
   "source": [
    "columns=['aave','kyber','link','maker','zero']\n",
    "index = ['HS','IHS','BTOP','BBOT','TTOP','TBOT','RTOP','RBOT','DTOP','DBOT']\n",
    "count_update = pd.DataFrame(columns =columns, index =index )"
   ]
  },
  {
   "cell_type": "markdown",
   "metadata": {},
   "source": [
    "HS"
   ]
  },
  {
   "cell_type": "code",
   "execution_count": 180,
   "metadata": {},
   "outputs": [],
   "source": [
    "a = 0\n",
    "for q in list(count.columns):\n",
    "    for i in count[q]['HS'].copy():\n",
    "        count_num = 0\n",
    "        x = [i[1],i[3]]\n",
    "        y = [data[q+'ret'].iloc[i[1]],data[q+'ret'].iloc[i[3]]]\n",
    "        x = np.array(x).reshape((len(x), 1))\n",
    "        y = np.array(y).reshape((len(y), 1))\n",
    "        lr.fit(x,y)\n",
    "        for j in range(1,8):\n",
    "            real_value = data[q+'ret'].iloc[i[4]+j]\n",
    "            pre_value = lr.predict(np.array([i[4]+j]).reshape((len([i[4]+j]), 1)))\n",
    "            if  real_value < pre_value:\n",
    "                count_num = count_num + 1\n",
    "        if count_num > 0:\n",
    "            a = a+1\n",
    "    count_update[q]['HS'] = a\n",
    "    a = 0"
   ]
  },
  {
   "cell_type": "markdown",
   "metadata": {},
   "source": [
    "IHS"
   ]
  },
  {
   "cell_type": "code",
   "execution_count": 181,
   "metadata": {},
   "outputs": [],
   "source": [
    "a = 0\n",
    "for q in list(count.columns):\n",
    "    for i in count[q]['IHS'].copy():\n",
    "        count_num = 0\n",
    "        x = [i[1],i[3]]\n",
    "        y = [data[q+'ret'].iloc[i[1]],data[q+'ret'].iloc[i[3]]]\n",
    "        x = np.array(x).reshape((len(x), 1))\n",
    "        y = np.array(y).reshape((len(y), 1))\n",
    "        lr.fit(x,y)\n",
    "        for j in range(1,8):\n",
    "            real_value = data[q+'ret'].iloc[i[4]+j]\n",
    "            pre_value = lr.predict(np.array([i[4]+j]).reshape((len([i[4]+j]), 1)))\n",
    "            if  real_value > pre_value:\n",
    "                count_num = count_num + 1\n",
    "        if count_num > 0:\n",
    "            a = a+1\n",
    "    count_update[q]['IHS'] = a\n",
    "    a = 0"
   ]
  },
  {
   "cell_type": "markdown",
   "metadata": {},
   "source": [
    "BTOP"
   ]
  },
  {
   "cell_type": "code",
   "execution_count": 182,
   "metadata": {},
   "outputs": [],
   "source": [
    "a = 0\n",
    "for q in list(count.columns):\n",
    "    for i in count[q]['BTOP'].copy():\n",
    "        count_num = 0\n",
    "        x = [i[1],i[3]]\n",
    "        y = [data[q+'ret'].iloc[i[1]],data[q+'ret'].iloc[i[3]]]\n",
    "        x = np.array(x).reshape((len(x), 1))\n",
    "        y = np.array(y).reshape((len(y), 1))\n",
    "        lr.fit(x,y)\n",
    "        for j in range(1,8):\n",
    "            real_value = data[q+'ret'].iloc[i[4]+j]\n",
    "            pre_value = lr.predict(np.array([i[4]+j]).reshape((len([i[4]+j]), 1)))\n",
    "            if  real_value < pre_value:\n",
    "                count_num = count_num + 1\n",
    "        if count_num > 0:\n",
    "            a = a+1\n",
    "    count_update[q]['BTOP'] = a\n",
    "    a = 0"
   ]
  },
  {
   "cell_type": "markdown",
   "metadata": {},
   "source": [
    "BBOT"
   ]
  },
  {
   "cell_type": "code",
   "execution_count": 183,
   "metadata": {},
   "outputs": [],
   "source": [
    "a = 0\n",
    "for q in list(count.columns):\n",
    "    for i in count[q]['BBOT'].copy():\n",
    "        count_num = 0\n",
    "        x = [i[1],i[3]]\n",
    "        y = [data[q+'ret'].iloc[i[1]],data[q+'ret'].iloc[i[3]]]\n",
    "        x = np.array(x).reshape((len(x), 1))\n",
    "        y = np.array(y).reshape((len(y), 1))\n",
    "        lr.fit(x,y)\n",
    "        for j in range(1,8):\n",
    "            real_value = data[q+'ret'].iloc[i[4]+j]\n",
    "            pre_value = lr.predict(np.array([i[4]+j]).reshape((len([i[4]+j]), 1)))\n",
    "            if  real_value > pre_value:\n",
    "                count_num = count_num + 1\n",
    "        if count_num > 0:\n",
    "            a = a+1\n",
    "    count_update[q]['BBOT'] = a\n",
    "    a = 0"
   ]
  },
  {
   "cell_type": "markdown",
   "metadata": {},
   "source": [
    "TTOP"
   ]
  },
  {
   "cell_type": "code",
   "execution_count": 184,
   "metadata": {},
   "outputs": [],
   "source": [
    "a = 0\n",
    "for q in list(count.columns):\n",
    "    for i in count[q]['TTOP'].copy():\n",
    "        count_num = 0\n",
    "        x = [i[1],i[3]]\n",
    "        y = [data[q+'ret'].iloc[i[1]],data[q+'ret'].iloc[i[3]]]\n",
    "        x = np.array(x).reshape((len(x), 1))\n",
    "        y = np.array(y).reshape((len(y), 1))\n",
    "        lr.fit(x,y)\n",
    "        for j in range(1,8):\n",
    "            real_value = data[q+'ret'].iloc[i[4]+j]\n",
    "            pre_value = lr.predict(np.array([i[4]+j]).reshape((len([i[4]+j]), 1)))\n",
    "            if  real_value < pre_value:\n",
    "                count_num = count_num + 1\n",
    "        if count_num > 0:\n",
    "            a = a+1\n",
    "    count_update[q]['TTOP'] = a\n",
    "    a = 0"
   ]
  },
  {
   "cell_type": "markdown",
   "metadata": {},
   "source": [
    "TBOT"
   ]
  },
  {
   "cell_type": "code",
   "execution_count": 185,
   "metadata": {},
   "outputs": [],
   "source": [
    "a = 0\n",
    "for q in list(count.columns):\n",
    "    for i in count[q]['TBOT'].copy():\n",
    "        count_num = 0\n",
    "        x = [i[1],i[3]]\n",
    "        y = [data[q+'ret'].iloc[i[1]],data[q+'ret'].iloc[i[3]]]\n",
    "        x = np.array(x).reshape((len(x), 1))\n",
    "        y = np.array(y).reshape((len(y), 1))\n",
    "        lr.fit(x,y)\n",
    "        for j in range(1,8):\n",
    "            real_value = data[q+'ret'].iloc[i[4]+j]\n",
    "            pre_value = lr.predict(np.array([i[4]+j]).reshape((len([i[4]+j]), 1)))\n",
    "            if  real_value > pre_value:\n",
    "                count_num = count_num + 1\n",
    "        if count_num > 0:\n",
    "            a = a+1\n",
    "    count_update[q]['TBOT'] = a\n",
    "    a = 0"
   ]
  },
  {
   "cell_type": "markdown",
   "metadata": {},
   "source": [
    "RTOP"
   ]
  },
  {
   "cell_type": "code",
   "execution_count": 186,
   "metadata": {},
   "outputs": [],
   "source": [
    "lr_upper = LinearRegression()\n",
    "lr_lower = LinearRegression()\n",
    "a = 0\n",
    "for q in list(count.columns):\n",
    "    for i in count[q]['RTOP'].copy():\n",
    "        count_num = 0\n",
    "        x_upper = [i[0],i[2],i[4]]\n",
    "        y_upper = [data[q+'ret'].iloc[i[0]],data[q+'ret'].iloc[i[2]],data[q+'ret'].iloc[i[4]]]\n",
    "        x_lower = [i[1],i[3]]\n",
    "        y_lower = [data[q+'ret'].iloc[i[1]],data[q+'ret'].iloc[i[3]]]\n",
    "        x_upper = np.array(x_upper).reshape((len(x_upper), 1))\n",
    "        y_upper = np.array(y_upper).reshape((len(y_upper), 1))\n",
    "        x_lower = np.array(x_lower).reshape((len(x_lower), 1))\n",
    "        y_lower = np.array(y_lower).reshape((len(y_lower), 1))\n",
    "        lr_upper.fit(x_upper,y_upper)\n",
    "        lr_lower.fit(x_lower,y_lower)\n",
    "        for j in range(1,8):\n",
    "            real_value = data[q+'ret'].iloc[i[4]+j]\n",
    "            lower_value = lr_lower.predict(np.array([i[4]+j]).reshape((len([i[4]+j]), 1)))\n",
    "            upper_value = lr_upper.predict(np.array([i[4]+j]).reshape((len([i[4]+j]), 1)))\n",
    "            if  (real_value > upper_value) or (real_value  < lower_value):\n",
    "                count_num = count_num + 1\n",
    "        if count_num > 0:\n",
    "            a = a+1\n",
    "    count_update[q]['RTOP'] = a\n",
    "    a = 0"
   ]
  },
  {
   "cell_type": "markdown",
   "metadata": {},
   "source": [
    "RBOT"
   ]
  },
  {
   "cell_type": "code",
   "execution_count": 187,
   "metadata": {},
   "outputs": [],
   "source": [
    "lr_upper = LinearRegression()\n",
    "lr_lower = LinearRegression()\n",
    "a = 0\n",
    "for q in list(count.columns):\n",
    "    for i in count[q]['RBOT'].copy():\n",
    "        count_num = 0\n",
    "        x_lower = [i[0],i[2],i[4]]\n",
    "        y_lower = [data[q+'ret'].iloc[i[0]],data[q+'ret'].iloc[i[2]],data[q+'ret'].iloc[i[4]]]\n",
    "        x_upper = [i[1],i[3]]\n",
    "        y_upper = [data[q+'ret'].iloc[i[1]],data[q+'ret'].iloc[i[3]]]\n",
    "        x_upper = np.array(x_upper).reshape((len(x_upper), 1))\n",
    "        y_upper = np.array(y_upper).reshape((len(y_upper), 1))\n",
    "        x_lower = np.array(x_lower).reshape((len(x_lower), 1))\n",
    "        y_lower = np.array(y_lower).reshape((len(y_lower), 1))\n",
    "        lr_upper.fit(x_upper,y_upper)\n",
    "        lr_lower.fit(x_lower,y_lower)\n",
    "        for j in range(1,8):\n",
    "            real_value = data[q+'ret'].iloc[i[4]+j]\n",
    "            lower_value = lr_lower.predict(np.array([i[4]+j]).reshape((len([i[4]+j]), 1)))\n",
    "            upper_value = lr_upper.predict(np.array([i[4]+j]).reshape((len([i[4]+j]), 1)))\n",
    "            if  (real_value > upper_value) or (real_value  < lower_value):\n",
    "                count_num = count_num + 1\n",
    "        if count_num > 0:\n",
    "            a = a+1\n",
    "    count_update[q]['RBOT'] = a\n",
    "    a = 0"
   ]
  },
  {
   "cell_type": "markdown",
   "metadata": {},
   "source": [
    "DTOP"
   ]
  },
  {
   "cell_type": "code",
   "execution_count": 188,
   "metadata": {},
   "outputs": [],
   "source": [
    "a = 0\n",
    "for q in list(count.columns):\n",
    "    for i in count[q]['DTOP'].copy():\n",
    "        count_num = 0\n",
    "        x = [i[0],i[1]]\n",
    "        y = [data[q+'ret'].iloc[i[0]],data[q+'ret'].iloc[i[1]]]\n",
    "        x = np.array(x).reshape((len(x), 1))\n",
    "        y = np.array(y).reshape((len(y), 1))\n",
    "        lr.fit(x,y)\n",
    "        for j in range(1,8):\n",
    "            real_value = data[q+'ret'].iloc[i[1]+j]\n",
    "            pre_value = lr.predict(np.array([i[1]+j]).reshape((len([i[1]+j]), 1)))\n",
    "            if  real_value > pre_value:\n",
    "                count_num = count_num + 1\n",
    "        if count_num > 0:\n",
    "            a = a+1\n",
    "    count_update[q]['DTOP'] = a\n",
    "    a = 0"
   ]
  },
  {
   "cell_type": "markdown",
   "metadata": {},
   "source": [
    "DBOT"
   ]
  },
  {
   "cell_type": "code",
   "execution_count": 189,
   "metadata": {},
   "outputs": [],
   "source": [
    "a = 0\n",
    "for q in list(count.columns):\n",
    "    for i in count[q]['DBOT'].copy():\n",
    "        count_num = 0\n",
    "        x = [i[0],i[1]]\n",
    "        y = [data[q+'ret'].iloc[i[0]],data[q+'ret'].iloc[i[1]]]\n",
    "        x = np.array(x).reshape((len(x), 1))\n",
    "        y = np.array(y).reshape((len(y), 1))\n",
    "        lr.fit(x,y)\n",
    "        for j in range(1,8):\n",
    "            real_value = data[q+'ret'].iloc[i[1]+j]\n",
    "            pre_value = lr.predict(np.array([i[1]+j]).reshape((len([i[1]+j]), 1)))\n",
    "            if  real_value < pre_value:\n",
    "                count_num = count_num + 1\n",
    "        if count_num > 0:\n",
    "            a = a+1\n",
    "    count_update[q]['DBOT'] = a\n",
    "    a = 0"
   ]
  },
  {
   "cell_type": "code",
   "execution_count": 191,
   "metadata": {
    "scrolled": true
   },
   "outputs": [],
   "source": [
    "count_update.to_excel('count_update.xlsx')"
   ]
  },
  {
   "cell_type": "code",
   "execution_count": null,
   "metadata": {},
   "outputs": [],
   "source": []
  },
  {
   "cell_type": "code",
   "execution_count": null,
   "metadata": {},
   "outputs": [],
   "source": []
  }
 ],
 "metadata": {
  "kernelspec": {
   "display_name": "Python 3 (ipykernel)",
   "language": "python",
   "name": "python3"
  },
  "language_info": {
   "codemirror_mode": {
    "name": "ipython",
    "version": 3
   },
   "file_extension": ".py",
   "mimetype": "text/x-python",
   "name": "python",
   "nbconvert_exporter": "python",
   "pygments_lexer": "ipython3",
   "version": "3.9.7"
  }
 },
 "nbformat": 4,
 "nbformat_minor": 4
}
