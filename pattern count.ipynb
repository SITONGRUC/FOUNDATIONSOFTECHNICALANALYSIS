{
 "cells": [
  {
   "cell_type": "code",
   "execution_count": 1,
   "metadata": {},
   "outputs": [],
   "source": [
    "import pandas as pd\n",
    "import numpy as np\n",
    "import matplotlib.pyplot as plt\n",
    "from scipy.signal import argrelextrema"
   ]
  },
  {
   "cell_type": "markdown",
   "metadata": {},
   "source": [
    "Head and Shoulder"
   ]
  },
  {
   "cell_type": "code",
   "execution_count": 2,
   "metadata": {},
   "outputs": [],
   "source": [
    "x = 0\n",
    "keep = []\n",
    "def ju(x,less,more):\n",
    "    if (x >= less) and (x<= more):\n",
    "        return True \n",
    "for i in range(1005):  \n",
    "    a = i \n",
    "    b = a+29\n",
    "    c = str(a)+'_'+str(b)\n",
    "    data = pd.read_csv('/Users/riomoukiri/Desktop/CHUPROJECT/kyber_ex/'+c+'.csv')\n",
    "    data['ex']=data['Minima']+data['Maxima']\n",
    "    Max = []\n",
    "    Min = []\n",
    "    for i in data.loc[data['Maxima']==1, 'index']:\n",
    "        Max.append(i)\n",
    "    for i in data.loc[data['Minima']==1, 'index']:\n",
    "        Min.append(i)\n",
    "    if sum(data['ex'])>=5:\n",
    "        list_1 = data.loc[data['ex']==1, 'index'].to_list()[0:(len(data.loc[data['ex']==1, 'index'])-4)]\n",
    "        for i in list_1:\n",
    "            if i in Max:\n",
    "                if (data['kyberret'][i+2]>data['kyberret'][i])and(data['kyberret'][i+2]>data['kyberret'][i+4]):\n",
    "                    a = (data['kyberret'][i]+data['kyberret'][i+4])/2\n",
    "                    b = (data['kyberret'][i+1]+data['kyberret'][i+3])/2\n",
    "                    if ju(data['kyberret'][i],0.985*a,1.015*a)== True and \\\n",
    "                    ju(data['kyberret'][i+4],0.985*a,1.015*a)==True and \\\n",
    "                    ju(data['kyberret'][i+1],0.985*b,1.015*b)==True and \\\n",
    "                    ju(data['kyberret'][i+3],0.985*b,1.015*b)==True:\n",
    "                        x = x+1\n",
    "                        keep.append(c)\n",
    "                        \n",
    "                \n",
    "                \n",
    "\n"
   ]
  },
  {
   "cell_type": "code",
   "execution_count": 3,
   "metadata": {},
   "outputs": [
    {
     "data": {
      "text/plain": [
       "60"
      ]
     },
     "execution_count": 3,
     "metadata": {},
     "output_type": "execute_result"
    }
   ],
   "source": [
    "x"
   ]
  },
  {
   "cell_type": "markdown",
   "metadata": {},
   "source": [
    "IHS"
   ]
  },
  {
   "cell_type": "code",
   "execution_count": 4,
   "metadata": {},
   "outputs": [],
   "source": [
    "x = 0\n",
    "keep = []\n",
    "def ju(x,less,more):\n",
    "    if (x >= less) and (x<= more):\n",
    "        return True \n",
    "for i in range(1005):  \n",
    "    a = i \n",
    "    b = a+29\n",
    "    c = str(a)+'_'+str(b)\n",
    "    data = pd.read_csv('/Users/riomoukiri/Desktop/CHUPROJECT/link_ex/'+c+'.csv')\n",
    "    data['ex']=data['Minima']+data['Maxima']\n",
    "    Max = []\n",
    "    Min = []\n",
    "    for i in data.loc[data['Maxima']==1, 'index']:\n",
    "        Max.append(i)\n",
    "    for i in data.loc[data['Minima']==1, 'index']:\n",
    "        Min.append(i)\n",
    "    if sum(data['ex'])>=5:\n",
    "        list_1 = data.loc[data['ex']==1, 'index'].to_list()[0:(len(data.loc[data['ex']==1, 'index'])-4)]\n",
    "        for i in list_1:\n",
    "            if i in Min:\n",
    "                if (data['linkret'][i+2]<data['linkret'][i])and(data['linkret'][i+2]<data['linkret'][i+4]):\n",
    "                    a = (data['linkret'][i]+data['linkret'][i+4])/2\n",
    "                    b = (data['linkret'][i+1]+data['linkret'][i+3])/2\n",
    "                    if ju(data['linkret'][i],0.985*a,1.015*a)== True and \\\n",
    "                    ju(data['linkret'][i+4],0.985*a,1.015*a)==True and \\\n",
    "                    ju(data['linkret'][i+1],0.985*b,1.015*b)==True and \\\n",
    "                    ju(data['linkret'][i+3],0.985*b,1.015*b)==True:\n",
    "                        x = x+1\n",
    "                        keep.append(c)"
   ]
  },
  {
   "cell_type": "code",
   "execution_count": 5,
   "metadata": {},
   "outputs": [
    {
     "data": {
      "text/plain": [
       "43"
      ]
     },
     "execution_count": 5,
     "metadata": {},
     "output_type": "execute_result"
    }
   ],
   "source": [
    "x"
   ]
  },
  {
   "cell_type": "markdown",
   "metadata": {},
   "source": [
    "BTOP"
   ]
  },
  {
   "cell_type": "code",
   "execution_count": 6,
   "metadata": {},
   "outputs": [],
   "source": [
    "x = 0\n",
    "keep = []\n",
    "def ju(x,less,more):\n",
    "    if (x >= less) and (x<= more):\n",
    "        return True \n",
    "for i in range(1005):  \n",
    "    a = i \n",
    "    b = a+29\n",
    "    c = str(a)+'_'+str(b)\n",
    "    data = pd.read_csv('/Users/riomoukiri/Desktop/CHUPROJECT/link_ex/'+c+'.csv')\n",
    "    data['ex']=data['Minima']+data['Maxima']\n",
    "    Max = []\n",
    "    Min = []\n",
    "    for i in data.loc[data['Maxima']==1, 'index']:\n",
    "        Max.append(i)\n",
    "    for i in data.loc[data['Minima']==1, 'index']:\n",
    "        Min.append(i)\n",
    "    if sum(data['ex'])>=5:\n",
    "        list_1 = data.loc[data['ex']==1, 'index'].to_list()[0:(len(data.loc[data['ex']==1, 'index'])-4)]\n",
    "        for i in list_1:\n",
    "            if i in Max:\n",
    "                if ju(data['linkret'][i+2],data['linkret'][i],data['linkret'][i+4])==True and \\\n",
    "                data['linkret'][i+1] > data['linkret'][i+3]:\n",
    "                    x=x+1\n",
    "                    keep.append(c)\n",
    "                            \n",
    "                                                                                                                          "
   ]
  },
  {
   "cell_type": "code",
   "execution_count": 7,
   "metadata": {},
   "outputs": [
    {
     "data": {
      "text/plain": [
       "9"
      ]
     },
     "execution_count": 7,
     "metadata": {},
     "output_type": "execute_result"
    }
   ],
   "source": [
    "x"
   ]
  },
  {
   "cell_type": "markdown",
   "metadata": {},
   "source": [
    "BBOT"
   ]
  },
  {
   "cell_type": "code",
   "execution_count": 11,
   "metadata": {},
   "outputs": [],
   "source": [
    "x = 0\n",
    "keep = []\n",
    "def ju(x,less,more):\n",
    "    if (x >= less) and (x<= more):\n",
    "        return True \n",
    "for i in range(1005):  \n",
    "    a = i \n",
    "    b = a+29\n",
    "    c = str(a)+'_'+str(b)\n",
    "    data = pd.read_csv('/Users/riomoukiri/Desktop/CHUPROJECT/link_ex/'+c+'.csv')\n",
    "    data['ex']=data['Minima']+data['Maxima']\n",
    "    Max = []\n",
    "    Min = []\n",
    "    for i in data.loc[data['Maxima']==1, 'index']:\n",
    "        Max.append(i)\n",
    "    for i in data.loc[data['Minima']==1, 'index']:\n",
    "        Min.append(i)\n",
    "    if sum(data['ex'])>=5:\n",
    "        list_1 = data.loc[data['ex']==1, 'index'].to_list()[0:(len(data.loc[data['ex']==1, 'index'])-4)]\n",
    "        for i in list_1:\n",
    "            if i in Min:\n",
    "                if ju(data['linkret'][i+2],data['linkret'][i+4],data['linkret'][i])==True and \\\n",
    "                data['linkret'][i+1] < data['linkret'][i+3]:\n",
    "                    x=x+1\n",
    "                    keep.append(c)\n",
    "                            \n",
    "                                                                                                                          "
   ]
  },
  {
   "cell_type": "code",
   "execution_count": 12,
   "metadata": {},
   "outputs": [
    {
     "data": {
      "text/plain": [
       "0"
      ]
     },
     "execution_count": 12,
     "metadata": {},
     "output_type": "execute_result"
    }
   ],
   "source": [
    "x"
   ]
  },
  {
   "cell_type": "markdown",
   "metadata": {},
   "source": [
    "TTOP"
   ]
  },
  {
   "cell_type": "code",
   "execution_count": 13,
   "metadata": {},
   "outputs": [],
   "source": [
    "x = 0\n",
    "keep = []\n",
    "def ju(x,less,more):\n",
    "    if (x >= less) and (x<= more):\n",
    "        return True \n",
    "for i in range(1005):  \n",
    "    a = i \n",
    "    b = a+29\n",
    "    c = str(a)+'_'+str(b)\n",
    "    data = pd.read_csv('/Users/riomoukiri/Desktop/CHUPROJECT/link_ex/'+c+'.csv')\n",
    "    data['ex']=data['Minima']+data['Maxima']\n",
    "    Max = []\n",
    "    Min = []\n",
    "    for i in data.loc[data['Maxima']==1, 'index']:\n",
    "        Max.append(i)\n",
    "    for i in data.loc[data['Minima']==1, 'index']:\n",
    "        Min.append(i)\n",
    "    if sum(data['ex'])>=5:\n",
    "        list_1 = data.loc[data['ex']==1, 'index'].to_list()[0:(len(data.loc[data['ex']==1, 'index'])-4)]\n",
    "        for i in list_1:\n",
    "            if i in Max:\n",
    "                if ju(data['linkret'][i+2],data['linkret'][i+4],data['linkret'][i])==True and \\\n",
    "                data['linkret'][i+1] < data['linkret'][i+3]:\n",
    "                    x=x+1\n",
    "                    keep.append(c)\n",
    "                            \n",
    "                                                                                                                          "
   ]
  },
  {
   "cell_type": "code",
   "execution_count": 14,
   "metadata": {},
   "outputs": [
    {
     "data": {
      "text/plain": [
       "155"
      ]
     },
     "execution_count": 14,
     "metadata": {},
     "output_type": "execute_result"
    }
   ],
   "source": [
    "\n",
    "x"
   ]
  },
  {
   "cell_type": "markdown",
   "metadata": {},
   "source": [
    "TBOT"
   ]
  },
  {
   "cell_type": "code",
   "execution_count": 15,
   "metadata": {},
   "outputs": [],
   "source": [
    "x = 0\n",
    "keep = []\n",
    "def ju(x,less,more):\n",
    "    if (x >= less) and (x<= more):\n",
    "        return True \n",
    "for i in range(1005):  \n",
    "    a = i \n",
    "    b = a+29\n",
    "    c = str(a)+'_'+str(b)\n",
    "    data = pd.read_csv('/Users/riomoukiri/Desktop/CHUPROJECT/link_ex/'+c+'.csv')\n",
    "    data['ex']=data['Minima']+data['Maxima']\n",
    "    Max = []\n",
    "    Min = []\n",
    "    for i in data.loc[data['Maxima']==1, 'index']:\n",
    "        Max.append(i)\n",
    "    for i in data.loc[data['Minima']==1, 'index']:\n",
    "        Min.append(i)\n",
    "    if sum(data['ex'])>=5:\n",
    "        list_1 = data.loc[data['ex']==1, 'index'].to_list()[0:(len(data.loc[data['ex']==1, 'index'])-4)]\n",
    "        for i in list_1:\n",
    "            if i in Min:\n",
    "                if ju(data['linkret'][i+2],data['linkret'][i],data['linkret'][i+4])==True and \\\n",
    "                data['linkret'][i+1] > data['linkret'][i+3]:\n",
    "                    x=x+1\n",
    "                    keep.append(c)\n",
    "                            \n",
    "                                                                                                                          "
   ]
  },
  {
   "cell_type": "code",
   "execution_count": 16,
   "metadata": {},
   "outputs": [
    {
     "data": {
      "text/plain": [
       "190"
      ]
     },
     "execution_count": 16,
     "metadata": {},
     "output_type": "execute_result"
    }
   ],
   "source": [
    "x"
   ]
  },
  {
   "cell_type": "markdown",
   "metadata": {},
   "source": [
    "RTOP"
   ]
  },
  {
   "cell_type": "code",
   "execution_count": 17,
   "metadata": {},
   "outputs": [],
   "source": [
    "x=0\n",
    "keep = []\n",
    "for i in range(1005):\n",
    "    a = i \n",
    "    b = a+29\n",
    "    c = str(a)+'_'+str(b)\n",
    "    data = pd.read_csv('/Users/riomoukiri/Desktop/CHUPROJECT/link_ex/'+c+'.csv')\n",
    "    data['ex']=data['Minima']+data['Maxima']\n",
    "    Max = []\n",
    "    Min = []\n",
    "    ext = []\n",
    "    for i in data.loc[data['Maxima']==1, 'index']:\n",
    "        Max.append(data['linkret'][i])\n",
    "    for i in data.loc[data['Minima']==1, 'index']:\n",
    "        Min.append(data['linkret'][i])\n",
    "    for i in data.loc[data['ex']==1,'index']:\n",
    "        ext.append(data['linkret'][i])\n",
    "    if sum(data['ex'])>=5:\n",
    "        list_1 = data.loc[data['ex']==1, 'linkret'].to_list()[0:(len(data.loc[data['ex']==1, 'linkret'])-4)]\n",
    "        for i in list_1:\n",
    "            if i in Max:\n",
    "                max_1=[]\n",
    "                min_1=[]\n",
    "                for q in [ext.index(i),ext.index(i)+1,ext.index(i)+2,ext.index(i)+3,ext.index(i)+4]:\n",
    "                    if ext[q] in Max:\n",
    "                        max_1.append(ext[q])\n",
    "                    else:\n",
    "                        min_1.append(ext[q])\n",
    "                if max_1 != [] and min_1!=[] and min(max_1)>max(min_1):\n",
    "                    max_mean = np.mean(max_1)\n",
    "                    max_cou = 0\n",
    "                    for b in range(len(max_1)):\n",
    "                        if ju(max_1[b],0.9925*max_mean,1.0075*max_mean)==True:\n",
    "                            max_cou = max_cou+1\n",
    "                    min_mean = np.mean(min_1)\n",
    "                    min_cou = 0\n",
    "                    for d in range(len(min_1)):\n",
    "                        if ju(min_1[d],0.9925*min_mean,1.0075*min_mean)==True:\n",
    "                            min_cou = min_cou+1\n",
    "                    if min_cou+max_cou==5 and max_1!=[]and min_1!=[]:\n",
    "                        x=x+1\n",
    "                        keep.append(c)\n",
    "                    \n",
    "                \n",
    "                \n",
    "    \n",
    "\n"
   ]
  },
  {
   "cell_type": "code",
   "execution_count": 18,
   "metadata": {},
   "outputs": [
    {
     "data": {
      "text/plain": [
       "1"
      ]
     },
     "execution_count": 18,
     "metadata": {},
     "output_type": "execute_result"
    }
   ],
   "source": [
    "x"
   ]
  },
  {
   "cell_type": "markdown",
   "metadata": {},
   "source": [
    "RBOT"
   ]
  },
  {
   "cell_type": "code",
   "execution_count": 19,
   "metadata": {},
   "outputs": [],
   "source": [
    "x=0\n",
    "keep = []\n",
    "for i in range(1005):\n",
    "    a = i \n",
    "    b = a+29\n",
    "    c = str(a)+'_'+str(b)\n",
    "    data = pd.read_csv('/Users/riomoukiri/Desktop/CHUPROJECT/aave_ex/'+c+'.csv')\n",
    "    data['ex']=data['Minima']+data['Maxima']\n",
    "    Max = []\n",
    "    Min = []\n",
    "    ext = []\n",
    "    for i in data.loc[data['Maxima']==1, 'index']:\n",
    "        Max.append(data['aaveret'][i])\n",
    "    for i in data.loc[data['Minima']==1, 'index']:\n",
    "        Min.append(data['aaveret'][i])\n",
    "    for i in data.loc[data['ex']==1,'index']:\n",
    "        ext.append(data['aaveret'][i])\n",
    "    if sum(data['ex'])>=5:\n",
    "        list_1 = data.loc[data['ex']==1, 'aaveret'].to_list()[0:(len(data.loc[data['ex']==1, 'aaveret'])-4)]\n",
    "        for i in list_1:\n",
    "            if i in Min:\n",
    "                max_1=[]\n",
    "                min_1=[]\n",
    "                for q in [ext.index(i),ext.index(i)+1,ext.index(i)+2,ext.index(i)+3,ext.index(i)+4]:\n",
    "                    if ext[q] in Max:\n",
    "                        max_1.append(ext[q])\n",
    "                    else:\n",
    "                        min_1.append(ext[q])\n",
    "                if max_1 != [] and min_1!=[] and min(max_1)>max(min_1):\n",
    "                    max_mean = np.mean(max_1)\n",
    "                    max_cou = 0\n",
    "                    for b in range(len(max_1)):\n",
    "                        if ju(max_1[b],0.9925*max_mean,1.0075*max_mean)==True:\n",
    "                            max_cou = max_cou+1\n",
    "                    min_mean = np.mean(min_1)\n",
    "                    min_cou = 0\n",
    "                    for d in range(len(min_1)):\n",
    "                        if ju(min_1[d],0.9925*min_mean,1.0075*min_mean)==True:\n",
    "                            min_cou = min_cou+1\n",
    "                    if min_cou+max_cou==5 and max_1!=[]and min_1!=[]:\n",
    "                        x=x+1\n",
    "                        keep.append(c)\n",
    "                    \n",
    "                \n",
    "                \n",
    "    \n",
    "\n",
    "\n"
   ]
  },
  {
   "cell_type": "code",
   "execution_count": 20,
   "metadata": {},
   "outputs": [
    {
     "data": {
      "text/plain": [
       "1"
      ]
     },
     "execution_count": 20,
     "metadata": {},
     "output_type": "execute_result"
    }
   ],
   "source": [
    "x"
   ]
  },
  {
   "cell_type": "markdown",
   "metadata": {},
   "source": [
    "DTOP"
   ]
  },
  {
   "cell_type": "code",
   "execution_count": 21,
   "metadata": {},
   "outputs": [],
   "source": [
    "x=0\n",
    "keep = []\n",
    "def ju(x,less,more):\n",
    "    if (x >= less) and (x<= more):\n",
    "        return True \n",
    "for i in range(1005):\n",
    "    a = i \n",
    "    b = a+29\n",
    "    c = str(a)+'_'+str(b)\n",
    "    data = pd.read_csv('/Users/riomoukiri/Desktop/CHUPROJECT/maker_ex/'+c+'.csv')\n",
    "    data['ex']=data['Minima']+data['Maxima']\n",
    "    Max = []\n",
    "    Min = []\n",
    "    ext = []\n",
    "    for i in data.loc[data['Maxima']==1, 'index']:\n",
    "        Max.append(data['makerret'][i])\n",
    "    for i in data.loc[data['Minima']==1, 'index']:\n",
    "        Min.append(data['makerret'][i])\n",
    "    for i in data.loc[data['ex']==1,'index']:\n",
    "        ext.append(data['makerret'][i])\n",
    "    if sum(data['ex'])>=2:\n",
    "        list_1 = data.loc[data['ex']==1, 'makerret'].to_list()[0:(len(data.loc[data['ex']==1, 'makerret'])-1)]\n",
    "        for i in list_1:\n",
    "            if i in Max:\n",
    "                a = max(ext[ext.index(i):])\n",
    "                mean_1 = (a+i)/2\n",
    "                if ju(i,0.985*mean_1, 1.015*mean_1) and ju(a,0.985*mean_1, 1.015*mean_1):\n",
    "                    x_1 = data.loc[data['makerret']==a,'index'].tolist()\n",
    "                    x_1 = x_1[0]\n",
    "                    y_1 = data.loc[data['makerret']==i,'index'].tolist()\n",
    "                    y_1 = y_1[0]\n",
    "                    if x_1-y_1>22:\n",
    "                        x=x+1\n",
    "                        keep.append(c)\n",
    "                \n",
    "                \n",
    "                 \n",
    "                \n",
    "                \n",
    "                \n",
    "                    \n",
    "                    \n",
    "                \n",
    "            \n",
    "            "
   ]
  },
  {
   "cell_type": "code",
   "execution_count": 22,
   "metadata": {
    "scrolled": true
   },
   "outputs": [
    {
     "data": {
      "text/plain": [
       "3"
      ]
     },
     "execution_count": 22,
     "metadata": {},
     "output_type": "execute_result"
    }
   ],
   "source": [
    "x"
   ]
  },
  {
   "cell_type": "markdown",
   "metadata": {},
   "source": [
    "DBOT"
   ]
  },
  {
   "cell_type": "code",
   "execution_count": 24,
   "metadata": {},
   "outputs": [],
   "source": [
    "x=0\n",
    "keep = []\n",
    "def ju(x,less,more):\n",
    "    if (x >= less) and (x<= more):\n",
    "        return True \n",
    "for i in range(1005):\n",
    "    a = i \n",
    "    b = a+29\n",
    "    c = str(a)+'_'+str(b)\n",
    "    data = pd.read_csv('/Users/riomoukiri/Desktop/CHUPROJECT/aave_ex/'+c+'.csv')\n",
    "    data['ex']=data['Minima']+data['Maxima']\n",
    "    Max = []\n",
    "    Min = []\n",
    "    ext = []\n",
    "    for i in data.loc[data['Maxima']==1, 'index']:\n",
    "        Max.append(data['aaveret'][i])\n",
    "    for i in data.loc[data['Minima']==1, 'index']:\n",
    "        Min.append(data['aaveret'][i])\n",
    "    for i in data.loc[data['ex']==1,'index']:\n",
    "        ext.append(data['aaveret'][i])\n",
    "    if sum(data['ex'])>=2:\n",
    "        list_1 = data.loc[data['ex']==1, 'aaveret'].to_list()[0:(len(data.loc[data['ex']==1, 'aaveret'])-1)]\n",
    "        for i in list_1:\n",
    "            if i in Min:\n",
    "                a = min(ext[ext.index(i):])\n",
    "                mean_1 = (a+i)/2\n",
    "                if ju(i,0.985*mean_1, 1.015*mean_1) and ju(a,0.985*mean_1, 1.015*mean_1):\n",
    "                    x_1 = data.loc[data['aaveret']==a,'index'].tolist()\n",
    "                    x_1 = x_1[0]\n",
    "                    y_1 = data.loc[data['aaveret']==i,'index'].tolist()\n",
    "                    y_1 = y_1[0]\n",
    "                    if x_1-y_1>22:\n",
    "                        x=x+1\n",
    "                        keep.append(c)\n",
    "                \n",
    "                \n",
    "                 \n",
    "                "
   ]
  },
  {
   "cell_type": "code",
   "execution_count": 25,
   "metadata": {},
   "outputs": [
    {
     "data": {
      "text/plain": [
       "0"
      ]
     },
     "execution_count": 25,
     "metadata": {},
     "output_type": "execute_result"
    }
   ],
   "source": [
    "x"
   ]
  },
  {
   "cell_type": "code",
   "execution_count": null,
   "metadata": {},
   "outputs": [],
   "source": []
  }
 ],
 "metadata": {
  "kernelspec": {
   "display_name": "Python 3 (ipykernel)",
   "language": "python",
   "name": "python3"
  },
  "language_info": {
   "codemirror_mode": {
    "name": "ipython",
    "version": 3
   },
   "file_extension": ".py",
   "mimetype": "text/x-python",
   "name": "python",
   "nbconvert_exporter": "python",
   "pygments_lexer": "ipython3",
   "version": "3.9.7"
  }
 },
 "nbformat": 4,
 "nbformat_minor": 4
}
