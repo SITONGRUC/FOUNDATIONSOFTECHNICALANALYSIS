{
 "cells": [
  {
   "cell_type": "code",
   "execution_count": 1,
   "metadata": {},
   "outputs": [],
   "source": [
    "import pandas as pd\n",
    "import numpy as np\n",
    "import quandl\n",
    "import matplotlib.pyplot as plt\n",
    "from statsmodels.nonparametric.kernel_regression import KernelReg\n",
    "from scipy.signal import argrelextrema\n",
    "import random\n",
    "from pandas.plotting import register_matplotlib_converters\n",
    "des = pd.read_excel('des.xlsx')\n",
    "des = des.set_index('Unnamed: 0')\n",
    "de_data = pd.read_csv('defi_data_1.csv')\n",
    "def su(name,num):\n",
    "    so = de_data[name + 'ret'][0]\n",
    "    dt = 1\n",
    "    T = 1032 \n",
    "    t = np.arange(1, 1033)\n",
    "    N = 1032\n",
    "    mu = des[name + 'logreturn']['mean']\n",
    "    sigma = des[name + 'logreturn']['std']\n",
    "    scen_size = num\n",
    "    b = {str(scen): np.random.normal(0, 1, int(N)) for scen in range(1, scen_size + 1)}\n",
    "    W = {str(scen): b[str(scen)].cumsum() for scen in range(1, scen_size + 1)}\n",
    "    drift=(mu-0.5*sigma**2)*t\n",
    "    diffusion = {str(scen): sigma * W[str(scen)] for scen in range(1, scen_size + 1)}\n",
    "    S = np.array([so * np.exp(drift + diffusion[str(scen)]) for scen in range(1, scen_size + 1)]) \n",
    "    S = np.hstack((np.array([[so] for scen in range(scen_size)]), S))\n",
    "    S = pd.DataFrame(S).T\n",
    "    return S\n",
    "su_link_500 = su('link',500)\n",
    "su_link_500.to_csv('link_su.csv')"
   ]
  },
  {
   "cell_type": "code",
   "execution_count": 2,
   "metadata": {},
   "outputs": [],
   "source": []
  },
  {
   "cell_type": "code",
   "execution_count": 3,
   "metadata": {},
   "outputs": [],
   "source": []
  },
  {
   "cell_type": "code",
   "execution_count": 4,
   "metadata": {},
   "outputs": [],
   "source": []
  },
  {
   "cell_type": "code",
   "execution_count": 17,
   "metadata": {},
   "outputs": [],
   "source": []
  },
  {
   "cell_type": "code",
   "execution_count": 8,
   "metadata": {},
   "outputs": [],
   "source": []
  },
  {
   "cell_type": "code",
   "execution_count": null,
   "metadata": {},
   "outputs": [],
   "source": []
  }
 ],
 "metadata": {
  "kernelspec": {
   "display_name": "Python 3 (ipykernel)",
   "language": "python",
   "name": "python3"
  },
  "language_info": {
   "codemirror_mode": {
    "name": "ipython",
    "version": 3
   },
   "file_extension": ".py",
   "mimetype": "text/x-python",
   "name": "python",
   "nbconvert_exporter": "python",
   "pygments_lexer": "ipython3",
   "version": "3.9.7"
  }
 },
 "nbformat": 4,
 "nbformat_minor": 4
}
